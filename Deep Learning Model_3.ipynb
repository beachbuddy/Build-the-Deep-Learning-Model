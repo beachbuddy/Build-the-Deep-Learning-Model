{
 "cells": [
  {
   "cell_type": "code",
   "execution_count": 1,
   "id": "fallen-lafayette",
   "metadata": {},
   "outputs": [],
   "source": [
    "import pandas as pd\n",
    "import yaml\n",
    "import pickle\n",
    "import numpy as np\n",
    "import keras\n",
    "from keras import models\n",
    "from keras import layers"
   ]
  },
  {
   "cell_type": "code",
   "execution_count": 2,
   "id": "younger-cookie",
   "metadata": {},
   "outputs": [],
   "source": [
    "with open('C:/Users/Sidney/LiveProject/AirBnB_config.yml', 'r') as file:\n",
    "    config=yaml.safe_load(file)"
   ]
  },
  {
   "cell_type": "code",
   "execution_count": 3,
   "id": "increasing-prophet",
   "metadata": {},
   "outputs": [
    {
     "data": {
      "text/plain": [
       "{'general': {'load_from_scratch': False,\n",
       "  'save_raw_dataframe': False,\n",
       "  'save_transformed_dataframe': False,\n",
       "  'remove_bad_values': True},\n",
       " 'columns': {'categorical': ['neighbourhood_group',\n",
       "   'neighbourhood',\n",
       "   'room_type'],\n",
       "  'continuous': ['minimum_nights',\n",
       "   'number_of_reviews',\n",
       "   'reviews_per_month',\n",
       "   'calculated_host_listings_count'],\n",
       "  'date': ['last_review'],\n",
       "  'text': ['name', 'host_name'],\n",
       "  'label': ['price']},\n",
       " 'bounding_box': {'max_long': -73.70018092,\n",
       "  'max_lat': 40.91617849,\n",
       "  'min_long': -74.25909008,\n",
       "  'min_lat': 40.47739894},\n",
       " 'newark_bounding_box': {'max_long': -74.11278706,\n",
       "  'max_lat': 40.67325015,\n",
       "  'min_long': -74.25132408,\n",
       "  'min_lat': 40.78813864},\n",
       " 'geo_columns': ['latitude', 'longitude'],\n",
       " 'file_names': {'input_csv': 'AB_NYC_2019.csv',\n",
       "  'pickled_input_dataframe': 'C:/Users/Sidney/OneDrive/Documents/LiveProject/AB_NYC_2021.pkl',\n",
       "  'pickled_output_dataframe': 'AB_NYC_23_May_2021.pkl'}}"
      ]
     },
     "execution_count": 3,
     "metadata": {},
     "output_type": "execute_result"
    }
   ],
   "source": [
    "config"
   ]
  },
  {
   "cell_type": "code",
   "execution_count": 4,
   "id": "least-birth",
   "metadata": {},
   "outputs": [
    {
     "data": {
      "text/plain": [
       "dict_keys(['general', 'columns', 'bounding_box', 'newark_bounding_box', 'geo_columns', 'file_names'])"
      ]
     },
     "execution_count": 4,
     "metadata": {},
     "output_type": "execute_result"
    }
   ],
   "source": [
    "config.keys()"
   ]
  },
  {
   "cell_type": "code",
   "execution_count": 5,
   "id": "incoming-purpose",
   "metadata": {},
   "outputs": [],
   "source": [
    "file_names=config.get('file_names')"
   ]
  },
  {
   "cell_type": "code",
   "execution_count": 6,
   "id": "organic-teddy",
   "metadata": {},
   "outputs": [
    {
     "data": {
      "text/plain": [
       "{'input_csv': 'AB_NYC_2019.csv',\n",
       " 'pickled_input_dataframe': 'C:/Users/Sidney/OneDrive/Documents/LiveProject/AB_NYC_2021.pkl',\n",
       " 'pickled_output_dataframe': 'AB_NYC_23_May_2021.pkl'}"
      ]
     },
     "execution_count": 6,
     "metadata": {},
     "output_type": "execute_result"
    }
   ],
   "source": [
    "file_names"
   ]
  },
  {
   "cell_type": "code",
   "execution_count": 7,
   "id": "monthly-fairy",
   "metadata": {},
   "outputs": [],
   "source": [
    "ip_data_frame=file_names.get('pickled_input_dataframe')"
   ]
  },
  {
   "cell_type": "code",
   "execution_count": 8,
   "id": "surgical-cleaning",
   "metadata": {},
   "outputs": [],
   "source": [
    "infile=open(ip_data_frame, 'rb')"
   ]
  },
  {
   "cell_type": "code",
   "execution_count": 9,
   "id": "vietnamese-notion",
   "metadata": {},
   "outputs": [],
   "source": [
    "df=pickle.load(infile)"
   ]
  },
  {
   "cell_type": "code",
   "execution_count": 10,
   "id": "governing-latvia",
   "metadata": {},
   "outputs": [
    {
     "data": {
      "text/html": [
       "<div>\n",
       "<style scoped>\n",
       "    .dataframe tbody tr th:only-of-type {\n",
       "        vertical-align: middle;\n",
       "    }\n",
       "\n",
       "    .dataframe tbody tr th {\n",
       "        vertical-align: top;\n",
       "    }\n",
       "\n",
       "    .dataframe thead th {\n",
       "        text-align: right;\n",
       "    }\n",
       "</style>\n",
       "<table border=\"1\" class=\"dataframe\">\n",
       "  <thead>\n",
       "    <tr style=\"text-align: right;\">\n",
       "      <th></th>\n",
       "      <th>id</th>\n",
       "      <th>name</th>\n",
       "      <th>host_id</th>\n",
       "      <th>host_name</th>\n",
       "      <th>neighbourhood_group</th>\n",
       "      <th>neighbourhood</th>\n",
       "      <th>latitude</th>\n",
       "      <th>longitude</th>\n",
       "      <th>room_type</th>\n",
       "      <th>price</th>\n",
       "      <th>minimum_nights</th>\n",
       "      <th>number_of_reviews</th>\n",
       "      <th>last_review</th>\n",
       "      <th>reviews_per_month</th>\n",
       "      <th>calculated_host_listings_count</th>\n",
       "      <th>availability_365</th>\n",
       "    </tr>\n",
       "  </thead>\n",
       "  <tbody>\n",
       "    <tr>\n",
       "      <th>0</th>\n",
       "      <td>2539</td>\n",
       "      <td>Clean &amp; quiet apt home by the park</td>\n",
       "      <td>2787</td>\n",
       "      <td>John</td>\n",
       "      <td>Brooklyn</td>\n",
       "      <td>Kensington</td>\n",
       "      <td>40.64749</td>\n",
       "      <td>-73.97237</td>\n",
       "      <td>Private room</td>\n",
       "      <td>149</td>\n",
       "      <td>1</td>\n",
       "      <td>9</td>\n",
       "      <td>2018-10-19</td>\n",
       "      <td>0.21</td>\n",
       "      <td>6</td>\n",
       "      <td>365</td>\n",
       "    </tr>\n",
       "    <tr>\n",
       "      <th>1</th>\n",
       "      <td>2595</td>\n",
       "      <td>Skylit Midtown Castle</td>\n",
       "      <td>2845</td>\n",
       "      <td>Jennifer</td>\n",
       "      <td>Manhattan</td>\n",
       "      <td>Midtown</td>\n",
       "      <td>40.75362</td>\n",
       "      <td>-73.98377</td>\n",
       "      <td>Entire home/apt</td>\n",
       "      <td>225</td>\n",
       "      <td>1</td>\n",
       "      <td>45</td>\n",
       "      <td>2019-05-21</td>\n",
       "      <td>0.38</td>\n",
       "      <td>2</td>\n",
       "      <td>355</td>\n",
       "    </tr>\n",
       "    <tr>\n",
       "      <th>2</th>\n",
       "      <td>3647</td>\n",
       "      <td>THE VILLAGE OF HARLEM....NEW YORK !</td>\n",
       "      <td>4632</td>\n",
       "      <td>Elisabeth</td>\n",
       "      <td>Manhattan</td>\n",
       "      <td>Harlem</td>\n",
       "      <td>40.80902</td>\n",
       "      <td>-73.94190</td>\n",
       "      <td>Private room</td>\n",
       "      <td>150</td>\n",
       "      <td>3</td>\n",
       "      <td>0</td>\n",
       "      <td>NaN</td>\n",
       "      <td>0.00</td>\n",
       "      <td>1</td>\n",
       "      <td>365</td>\n",
       "    </tr>\n",
       "    <tr>\n",
       "      <th>3</th>\n",
       "      <td>3831</td>\n",
       "      <td>Cozy Entire Floor of Brownstone</td>\n",
       "      <td>4869</td>\n",
       "      <td>LisaRoxanne</td>\n",
       "      <td>Brooklyn</td>\n",
       "      <td>Clinton Hill</td>\n",
       "      <td>40.68514</td>\n",
       "      <td>-73.95976</td>\n",
       "      <td>Entire home/apt</td>\n",
       "      <td>89</td>\n",
       "      <td>1</td>\n",
       "      <td>270</td>\n",
       "      <td>2019-07-05</td>\n",
       "      <td>4.64</td>\n",
       "      <td>1</td>\n",
       "      <td>194</td>\n",
       "    </tr>\n",
       "    <tr>\n",
       "      <th>4</th>\n",
       "      <td>5022</td>\n",
       "      <td>Entire Apt: Spacious Studio/Loft by central park</td>\n",
       "      <td>7192</td>\n",
       "      <td>Laura</td>\n",
       "      <td>Manhattan</td>\n",
       "      <td>East Harlem</td>\n",
       "      <td>40.79851</td>\n",
       "      <td>-73.94399</td>\n",
       "      <td>Entire home/apt</td>\n",
       "      <td>80</td>\n",
       "      <td>10</td>\n",
       "      <td>9</td>\n",
       "      <td>2018-11-19</td>\n",
       "      <td>0.10</td>\n",
       "      <td>1</td>\n",
       "      <td>0</td>\n",
       "    </tr>\n",
       "  </tbody>\n",
       "</table>\n",
       "</div>"
      ],
      "text/plain": [
       "     id                                              name  host_id  \\\n",
       "0  2539                Clean & quiet apt home by the park     2787   \n",
       "1  2595                             Skylit Midtown Castle     2845   \n",
       "2  3647               THE VILLAGE OF HARLEM....NEW YORK !     4632   \n",
       "3  3831                   Cozy Entire Floor of Brownstone     4869   \n",
       "4  5022  Entire Apt: Spacious Studio/Loft by central park     7192   \n",
       "\n",
       "     host_name neighbourhood_group neighbourhood  latitude  longitude  \\\n",
       "0         John            Brooklyn    Kensington  40.64749  -73.97237   \n",
       "1     Jennifer           Manhattan       Midtown  40.75362  -73.98377   \n",
       "2    Elisabeth           Manhattan        Harlem  40.80902  -73.94190   \n",
       "3  LisaRoxanne            Brooklyn  Clinton Hill  40.68514  -73.95976   \n",
       "4        Laura           Manhattan   East Harlem  40.79851  -73.94399   \n",
       "\n",
       "         room_type  price  minimum_nights  number_of_reviews last_review  \\\n",
       "0     Private room    149               1                  9  2018-10-19   \n",
       "1  Entire home/apt    225               1                 45  2019-05-21   \n",
       "2     Private room    150               3                  0         NaN   \n",
       "3  Entire home/apt     89               1                270  2019-07-05   \n",
       "4  Entire home/apt     80              10                  9  2018-11-19   \n",
       "\n",
       "   reviews_per_month  calculated_host_listings_count  availability_365  \n",
       "0               0.21                               6               365  \n",
       "1               0.38                               2               355  \n",
       "2               0.00                               1               365  \n",
       "3               4.64                               1               194  \n",
       "4               0.10                               1                 0  "
      ]
     },
     "execution_count": 10,
     "metadata": {},
     "output_type": "execute_result"
    }
   ],
   "source": [
    "df.head()"
   ]
  },
  {
   "cell_type": "code",
   "execution_count": 11,
   "id": "outside-basic",
   "metadata": {},
   "outputs": [
    {
     "data": {
      "text/plain": [
       "count    48895.000000\n",
       "mean       152.720687\n",
       "std        240.154170\n",
       "min          0.000000\n",
       "25%         69.000000\n",
       "50%        106.000000\n",
       "75%        175.000000\n",
       "max      10000.000000\n",
       "Name: price, dtype: float64"
      ]
     },
     "execution_count": 11,
     "metadata": {},
     "output_type": "execute_result"
    }
   ],
   "source": [
    "df['price'].describe()"
   ]
  },
  {
   "cell_type": "markdown",
   "id": "reported-daily",
   "metadata": {},
   "source": [
    "Look at neighbourhood column - how many neighbourhoods?, correlation to price?"
   ]
  },
  {
   "cell_type": "code",
   "execution_count": 12,
   "id": "tutorial-xerox",
   "metadata": {},
   "outputs": [
    {
     "data": {
      "text/plain": [
       "Rossville                1\n",
       "Woodrow                  1\n",
       "Willowbrook              1\n",
       "Richmondtown             1\n",
       "Fort Wadsworth           1\n",
       "                      ... \n",
       "Upper West Side       1971\n",
       "Bushwick              2465\n",
       "Harlem                2658\n",
       "Bedford-Stuyvesant    3714\n",
       "Williamsburg          3920\n",
       "Name: neighbourhood, Length: 221, dtype: int64"
      ]
     },
     "execution_count": 12,
     "metadata": {},
     "output_type": "execute_result"
    }
   ],
   "source": [
    "df['neighbourhood'].value_counts(ascending=True)"
   ]
  },
  {
   "cell_type": "code",
   "execution_count": 13,
   "id": "pending-microphone",
   "metadata": {},
   "outputs": [],
   "source": [
    "neighbourhood_list=list(df['neighbourhood'].value_counts().index)"
   ]
  },
  {
   "cell_type": "code",
   "execution_count": 14,
   "id": "round-parks",
   "metadata": {},
   "outputs": [
    {
     "data": {
      "text/plain": [
       "['Williamsburg',\n",
       " 'Bedford-Stuyvesant',\n",
       " 'Harlem',\n",
       " 'Bushwick',\n",
       " 'Upper West Side',\n",
       " \"Hell's Kitchen\",\n",
       " 'East Village',\n",
       " 'Upper East Side',\n",
       " 'Crown Heights',\n",
       " 'Midtown',\n",
       " 'East Harlem',\n",
       " 'Greenpoint',\n",
       " 'Chelsea',\n",
       " 'Lower East Side',\n",
       " 'Astoria',\n",
       " 'Washington Heights',\n",
       " 'West Village',\n",
       " 'Financial District',\n",
       " 'Flatbush',\n",
       " 'Clinton Hill',\n",
       " 'Long Island City',\n",
       " 'Prospect-Lefferts Gardens',\n",
       " 'Park Slope',\n",
       " 'East Flatbush',\n",
       " 'Fort Greene',\n",
       " 'Murray Hill',\n",
       " 'Kips Bay',\n",
       " 'Flushing',\n",
       " 'Ridgewood',\n",
       " 'Greenwich Village',\n",
       " 'Sunset Park',\n",
       " 'Chinatown',\n",
       " 'Sunnyside',\n",
       " 'SoHo',\n",
       " 'Prospect Heights',\n",
       " 'Morningside Heights',\n",
       " 'Gramercy',\n",
       " 'Ditmars Steinway',\n",
       " 'Theater District',\n",
       " 'South Slope',\n",
       " 'Nolita',\n",
       " 'Inwood',\n",
       " 'Gowanus',\n",
       " 'Elmhurst',\n",
       " 'Woodside',\n",
       " 'Carroll Gardens',\n",
       " 'Jamaica',\n",
       " 'East New York',\n",
       " 'Jackson Heights',\n",
       " 'East Elmhurst',\n",
       " 'Boerum Hill',\n",
       " 'Tribeca',\n",
       " 'Kensington',\n",
       " 'Sheepshead Bay',\n",
       " 'Windsor Terrace',\n",
       " 'Brooklyn Heights',\n",
       " 'Canarsie',\n",
       " 'Forest Hills',\n",
       " 'Bay Ridge',\n",
       " 'Borough Park',\n",
       " 'Cypress Hills',\n",
       " 'Little Italy',\n",
       " 'Maspeth',\n",
       " 'Midwood',\n",
       " 'Rego Park',\n",
       " 'Cobble Hill',\n",
       " 'Richmond Hill',\n",
       " 'Woodhaven',\n",
       " 'Springfield Gardens',\n",
       " 'Downtown Brooklyn',\n",
       " 'Flatlands',\n",
       " 'Flatiron District',\n",
       " 'Red Hook',\n",
       " 'NoHo',\n",
       " 'Arverne',\n",
       " 'Roosevelt Island',\n",
       " 'St. Albans',\n",
       " 'Bensonhurst',\n",
       " 'Brighton Beach',\n",
       " 'Two Bridges',\n",
       " 'Battery Park City',\n",
       " 'Kingsbridge',\n",
       " 'Gravesend',\n",
       " 'Corona',\n",
       " 'Fordham',\n",
       " 'Longwood',\n",
       " 'Ozone Park',\n",
       " 'Brownsville',\n",
       " 'Queens Village',\n",
       " 'Mott Haven',\n",
       " 'Rosedale',\n",
       " 'Briarwood',\n",
       " 'Rockaway Beach',\n",
       " 'Fort Hamilton',\n",
       " 'Glendale',\n",
       " 'Civic Center',\n",
       " 'Concourse',\n",
       " 'Wakefield',\n",
       " 'St. George',\n",
       " 'Port Morris',\n",
       " 'Columbia St',\n",
       " 'Allerton',\n",
       " 'Tompkinsville',\n",
       " 'Williamsbridge',\n",
       " 'South Ozone Park',\n",
       " 'Bayside',\n",
       " 'Parkchester',\n",
       " 'Stuyvesant Town',\n",
       " 'DUMBO',\n",
       " 'Vinegar Hill',\n",
       " 'Kew Gardens',\n",
       " 'Fresh Meadows',\n",
       " 'Concourse Village',\n",
       " 'Norwood',\n",
       " 'Middle Village',\n",
       " 'Far Rockaway',\n",
       " 'Pelham Gardens',\n",
       " 'Claremont Village',\n",
       " 'Stapleton',\n",
       " 'Highbridge',\n",
       " 'Cambria Heights',\n",
       " 'Kew Gardens Hills',\n",
       " 'Concord',\n",
       " 'Belmont',\n",
       " 'Throgs Neck',\n",
       " 'University Heights',\n",
       " 'Clason Point',\n",
       " 'Arrochar',\n",
       " 'Mount Hope',\n",
       " 'Howard Beach',\n",
       " 'College Point',\n",
       " 'Bronxdale',\n",
       " 'Randall Manor',\n",
       " 'Jamaica Estates',\n",
       " 'Laurelton',\n",
       " 'West Brighton',\n",
       " 'Morrisania',\n",
       " 'Hunts Point',\n",
       " 'City Island',\n",
       " 'Bath Beach',\n",
       " 'Morris Heights',\n",
       " 'Bayswater',\n",
       " 'Pelham Bay',\n",
       " 'Coney Island',\n",
       " 'Morris Park',\n",
       " 'Clifton',\n",
       " 'Soundview',\n",
       " 'Hollis',\n",
       " 'Navy Yard',\n",
       " 'Bellerose',\n",
       " 'Schuylerville',\n",
       " 'Edenwald',\n",
       " 'Eastchester',\n",
       " 'Dyker Heights',\n",
       " 'Fieldston',\n",
       " 'Marble Hill',\n",
       " 'Whitestone',\n",
       " 'Woodlawn',\n",
       " 'Riverdale',\n",
       " 'Tremont',\n",
       " 'Van Nest',\n",
       " 'Edgemere',\n",
       " 'Great Kills',\n",
       " 'Bergen Beach',\n",
       " 'East Morrisania',\n",
       " 'Melrose',\n",
       " 'Westchester Square',\n",
       " 'North Riverdale',\n",
       " 'Port Richmond',\n",
       " 'Castle Hill',\n",
       " 'South Beach',\n",
       " 'Manhattan Beach',\n",
       " 'New Springville',\n",
       " 'Belle Harbor',\n",
       " 'Douglaston',\n",
       " 'Jamaica Hills',\n",
       " 'Mariners Harbor',\n",
       " 'Shore Acres',\n",
       " 'Dongan Hills',\n",
       " 'Tottenville',\n",
       " 'Rosebank',\n",
       " 'Unionport',\n",
       " 'Sea Gate',\n",
       " 'Grymes Hill',\n",
       " 'Baychester',\n",
       " 'Midland Beach',\n",
       " \"Bull's Head\",\n",
       " 'Mount Eden',\n",
       " 'Bay Terrace',\n",
       " 'Grant City',\n",
       " 'New Dorp Beach',\n",
       " 'Oakwood',\n",
       " 'Little Neck',\n",
       " 'New Brighton',\n",
       " 'Emerson Hill',\n",
       " 'Mill Basin',\n",
       " \"Prince's Bay\",\n",
       " 'Spuyten Duyvil',\n",
       " 'Olinville',\n",
       " 'Arden Heights',\n",
       " 'Holliswood',\n",
       " 'Todt Hill',\n",
       " 'Castleton Corners',\n",
       " 'Neponsit',\n",
       " 'Breezy Point',\n",
       " 'Huguenot',\n",
       " 'Graniteville',\n",
       " 'Eltingville',\n",
       " 'Howland Hook',\n",
       " 'West Farms',\n",
       " 'Co-op City',\n",
       " 'Westerleigh',\n",
       " 'Lighthouse Hill',\n",
       " 'Silver Lake',\n",
       " 'Bay Terrace, Staten Island',\n",
       " 'Richmondtown',\n",
       " 'Fort Wadsworth',\n",
       " 'Woodrow',\n",
       " 'New Dorp',\n",
       " 'Rossville',\n",
       " 'Willowbrook']"
      ]
     },
     "execution_count": 14,
     "metadata": {},
     "output_type": "execute_result"
    }
   ],
   "source": [
    "neighbourhood_list"
   ]
  },
  {
   "cell_type": "code",
   "execution_count": 15,
   "id": "stainless-weight",
   "metadata": {},
   "outputs": [
    {
     "data": {
      "text/plain": [
       "neighbourhood_group  neighbourhood\n",
       "Bronx                Kingsbridge      70\n",
       "                     Fordham          63\n",
       "                     Longwood         62\n",
       "                     Mott Haven       60\n",
       "                     Concourse        50\n",
       "                                      ..\n",
       "Staten Island        New Dorp          1\n",
       "                     Richmondtown      1\n",
       "                     Rossville         1\n",
       "                     Willowbrook       1\n",
       "                     Woodrow           1\n",
       "Name: neighbourhood, Length: 221, dtype: int64"
      ]
     },
     "execution_count": 15,
     "metadata": {},
     "output_type": "execute_result"
    }
   ],
   "source": [
    "df.groupby('neighbourhood_group')['neighbourhood'].value_counts()"
   ]
  },
  {
   "cell_type": "code",
   "execution_count": 16,
   "id": "secondary-button",
   "metadata": {},
   "outputs": [],
   "source": [
    "def convert_category (heading):\n",
    "    dict={}\n",
    "    category_list=list(df[heading].value_counts().index)\n",
    "    for i in range(len(category_list)):\n",
    "        dict1={category_list[i]: i+1}\n",
    "        dict.update(dict1)\n",
    "    return dict    "
   ]
  },
  {
   "cell_type": "code",
   "execution_count": 17,
   "id": "basic-appreciation",
   "metadata": {},
   "outputs": [],
   "source": [
    "z=config.get('columns')\n",
    "continuous=z.get('continuous')\n",
    "categorical=z.get('categorical')\n",
    "label=z.get('label')"
   ]
  },
  {
   "cell_type": "code",
   "execution_count": 18,
   "id": "extra-retreat",
   "metadata": {},
   "outputs": [],
   "source": [
    "New_cat_list=[]\n",
    "for category in categorical:\n",
    "    category_dict=convert_category(category)\n",
    "    df['N'+category]=df[category].apply(lambda x: category_dict.get(x)/len(category_dict))\n",
    "    New_cat_list.append('N'+category)\n",
    "#created new, normalized numerical columns for categorical variables\n",
    "#normalized numerical categorical columns are Nneighbourhood_group, Nneighbourhood, Nroom_type"
   ]
  },
  {
   "cell_type": "code",
   "execution_count": 19,
   "id": "civilian-stability",
   "metadata": {},
   "outputs": [
    {
     "data": {
      "text/plain": [
       "['Nneighbourhood_group', 'Nneighbourhood', 'Nroom_type']"
      ]
     },
     "execution_count": 19,
     "metadata": {},
     "output_type": "execute_result"
    }
   ],
   "source": [
    "New_cat_list"
   ]
  },
  {
   "cell_type": "code",
   "execution_count": 20,
   "id": "increasing-trinity",
   "metadata": {},
   "outputs": [
    {
     "data": {
      "text/plain": [
       "['minimum_nights',\n",
       " 'number_of_reviews',\n",
       " 'reviews_per_month',\n",
       " 'calculated_host_listings_count']"
      ]
     },
     "execution_count": 20,
     "metadata": {},
     "output_type": "execute_result"
    }
   ],
   "source": [
    "continuous"
   ]
  },
  {
   "cell_type": "markdown",
   "id": "according-trace",
   "metadata": {},
   "source": [
    "For continuous columns you want a mean of zero and a standard deviation of 1"
   ]
  },
  {
   "cell_type": "code",
   "execution_count": 21,
   "id": "hazardous-ambassador",
   "metadata": {},
   "outputs": [],
   "source": [
    "New_cont_list=[]\n",
    "for conts in continuous:\n",
    "    df['N'+conts] = (df[conts] - df[conts].mean()) / df[conts].std()\n",
    "    New_cont_list.append('N'+conts)"
   ]
  },
  {
   "cell_type": "code",
   "execution_count": 22,
   "id": "instant-beijing",
   "metadata": {},
   "outputs": [
    {
     "data": {
      "text/plain": [
       "['Nminimum_nights',\n",
       " 'Nnumber_of_reviews',\n",
       " 'Nreviews_per_month',\n",
       " 'Ncalculated_host_listings_count']"
      ]
     },
     "execution_count": 22,
     "metadata": {},
     "output_type": "execute_result"
    }
   ],
   "source": [
    "New_cont_list"
   ]
  },
  {
   "cell_type": "code",
   "execution_count": 23,
   "id": "hidden-aaron",
   "metadata": {},
   "outputs": [],
   "source": [
    "def binary_label(price):\n",
    "    if price <=average_price:\n",
    "        return 0\n",
    "    else:\n",
    "        return 1"
   ]
  },
  {
   "cell_type": "code",
   "execution_count": 24,
   "id": "given-design",
   "metadata": {},
   "outputs": [],
   "source": [
    "average_price=np.average(df[label])"
   ]
  },
  {
   "cell_type": "code",
   "execution_count": 25,
   "id": "northern-rogers",
   "metadata": {},
   "outputs": [
    {
     "data": {
      "text/plain": [
       "152.7206871868289"
      ]
     },
     "execution_count": 25,
     "metadata": {},
     "output_type": "execute_result"
    }
   ],
   "source": [
    "average_price"
   ]
  },
  {
   "cell_type": "code",
   "execution_count": 26,
   "id": "coated-moisture",
   "metadata": {},
   "outputs": [],
   "source": [
    "df['Nprice']=df['price'].apply(lambda x: binary_label(x))"
   ]
  },
  {
   "cell_type": "code",
   "execution_count": 27,
   "id": "psychological-belle",
   "metadata": {},
   "outputs": [],
   "source": [
    "New_label=['Nprice']"
   ]
  },
  {
   "cell_type": "markdown",
   "id": "fundamental-decimal",
   "metadata": {},
   "source": [
    "Create new df with normalized categorical and continuous data"
   ]
  },
  {
   "cell_type": "code",
   "execution_count": 28,
   "id": "accompanied-wireless",
   "metadata": {},
   "outputs": [],
   "source": [
    "Ndf=df[New_cat_list+New_cont_list+New_label]"
   ]
  },
  {
   "cell_type": "code",
   "execution_count": 29,
   "id": "constitutional-balance",
   "metadata": {},
   "outputs": [
    {
     "data": {
      "text/html": [
       "<div>\n",
       "<style scoped>\n",
       "    .dataframe tbody tr th:only-of-type {\n",
       "        vertical-align: middle;\n",
       "    }\n",
       "\n",
       "    .dataframe tbody tr th {\n",
       "        vertical-align: top;\n",
       "    }\n",
       "\n",
       "    .dataframe thead th {\n",
       "        text-align: right;\n",
       "    }\n",
       "</style>\n",
       "<table border=\"1\" class=\"dataframe\">\n",
       "  <thead>\n",
       "    <tr style=\"text-align: right;\">\n",
       "      <th></th>\n",
       "      <th>Nneighbourhood_group</th>\n",
       "      <th>Nneighbourhood</th>\n",
       "      <th>Nroom_type</th>\n",
       "      <th>Nminimum_nights</th>\n",
       "      <th>Nnumber_of_reviews</th>\n",
       "      <th>Nreviews_per_month</th>\n",
       "      <th>Ncalculated_host_listings_count</th>\n",
       "      <th>Nprice</th>\n",
       "    </tr>\n",
       "  </thead>\n",
       "  <tbody>\n",
       "    <tr>\n",
       "      <th>0</th>\n",
       "      <td>0.4</td>\n",
       "      <td>0.239819</td>\n",
       "      <td>0.666667</td>\n",
       "      <td>-0.293993</td>\n",
       "      <td>-0.320410</td>\n",
       "      <td>-0.551505</td>\n",
       "      <td>-0.034716</td>\n",
       "      <td>0</td>\n",
       "    </tr>\n",
       "    <tr>\n",
       "      <th>1</th>\n",
       "      <td>0.2</td>\n",
       "      <td>0.045249</td>\n",
       "      <td>0.333333</td>\n",
       "      <td>-0.293993</td>\n",
       "      <td>0.487660</td>\n",
       "      <td>-0.445075</td>\n",
       "      <td>-0.156103</td>\n",
       "      <td>1</td>\n",
       "    </tr>\n",
       "    <tr>\n",
       "      <th>2</th>\n",
       "      <td>0.2</td>\n",
       "      <td>0.013575</td>\n",
       "      <td>0.666667</td>\n",
       "      <td>-0.196482</td>\n",
       "      <td>-0.522428</td>\n",
       "      <td>-0.682979</td>\n",
       "      <td>-0.186450</td>\n",
       "      <td>0</td>\n",
       "    </tr>\n",
       "    <tr>\n",
       "      <th>3</th>\n",
       "      <td>0.4</td>\n",
       "      <td>0.090498</td>\n",
       "      <td>0.333333</td>\n",
       "      <td>-0.293993</td>\n",
       "      <td>5.538099</td>\n",
       "      <td>2.221955</td>\n",
       "      <td>-0.186450</td>\n",
       "      <td>0</td>\n",
       "    </tr>\n",
       "    <tr>\n",
       "      <th>4</th>\n",
       "      <td>0.2</td>\n",
       "      <td>0.049774</td>\n",
       "      <td>0.333333</td>\n",
       "      <td>0.144805</td>\n",
       "      <td>-0.320410</td>\n",
       "      <td>-0.620372</td>\n",
       "      <td>-0.186450</td>\n",
       "      <td>0</td>\n",
       "    </tr>\n",
       "  </tbody>\n",
       "</table>\n",
       "</div>"
      ],
      "text/plain": [
       "   Nneighbourhood_group  Nneighbourhood  Nroom_type  Nminimum_nights  \\\n",
       "0                   0.4        0.239819    0.666667        -0.293993   \n",
       "1                   0.2        0.045249    0.333333        -0.293993   \n",
       "2                   0.2        0.013575    0.666667        -0.196482   \n",
       "3                   0.4        0.090498    0.333333        -0.293993   \n",
       "4                   0.2        0.049774    0.333333         0.144805   \n",
       "\n",
       "   Nnumber_of_reviews  Nreviews_per_month  Ncalculated_host_listings_count  \\\n",
       "0           -0.320410           -0.551505                        -0.034716   \n",
       "1            0.487660           -0.445075                        -0.156103   \n",
       "2           -0.522428           -0.682979                        -0.186450   \n",
       "3            5.538099            2.221955                        -0.186450   \n",
       "4           -0.320410           -0.620372                        -0.186450   \n",
       "\n",
       "   Nprice  \n",
       "0       0  \n",
       "1       1  \n",
       "2       0  \n",
       "3       0  \n",
       "4       0  "
      ]
     },
     "execution_count": 29,
     "metadata": {},
     "output_type": "execute_result"
    }
   ],
   "source": [
    "Ndf.head()"
   ]
  },
  {
   "cell_type": "markdown",
   "id": "rough-service",
   "metadata": {},
   "source": [
    "Must now convert the new df to a numpy array"
   ]
  },
  {
   "cell_type": "code",
   "execution_count": 30,
   "id": "protected-washer",
   "metadata": {},
   "outputs": [],
   "source": [
    "dataset=np.array(Ndf)"
   ]
  },
  {
   "cell_type": "code",
   "execution_count": 31,
   "id": "personalized-sitting",
   "metadata": {},
   "outputs": [
    {
     "data": {
      "text/plain": [
       "array([[ 0.4       ,  0.239819  ,  0.66666667, ..., -0.5515053 ,\n",
       "        -0.03471607,  0.        ],\n",
       "       [ 0.2       ,  0.04524887,  0.33333333, ..., -0.44507455,\n",
       "        -0.15610285,  1.        ],\n",
       "       [ 0.2       ,  0.01357466,  0.66666667, ..., -0.68297858,\n",
       "        -0.18644954,  0.        ],\n",
       "       ...,\n",
       "       [ 0.2       ,  0.01357466,  0.33333333, ..., -0.68297858,\n",
       "        -0.18644954,  0.        ],\n",
       "       [ 0.2       ,  0.02714932,  1.        , ..., -0.68297858,\n",
       "        -0.03471607,  0.        ],\n",
       "       [ 0.2       ,  0.02714932,  0.66666667, ..., -0.68297858,\n",
       "        -0.18644954,  0.        ]])"
      ]
     },
     "execution_count": 31,
     "metadata": {},
     "output_type": "execute_result"
    }
   ],
   "source": [
    "dataset"
   ]
  },
  {
   "cell_type": "code",
   "execution_count": 32,
   "id": "superior-potential",
   "metadata": {},
   "outputs": [
    {
     "data": {
      "text/plain": [
       "(48895, 8)"
      ]
     },
     "execution_count": 32,
     "metadata": {},
     "output_type": "execute_result"
    }
   ],
   "source": [
    "dataset.shape"
   ]
  },
  {
   "cell_type": "code",
   "execution_count": 33,
   "id": "organizational-snapshot",
   "metadata": {},
   "outputs": [],
   "source": [
    "data=dataset[:,:-1]"
   ]
  },
  {
   "cell_type": "code",
   "execution_count": 34,
   "id": "later-hamburg",
   "metadata": {},
   "outputs": [],
   "source": [
    "label=dataset[:,-1]"
   ]
  },
  {
   "cell_type": "code",
   "execution_count": 35,
   "id": "polar-strand",
   "metadata": {},
   "outputs": [
    {
     "data": {
      "text/plain": [
       "(48895, 7)"
      ]
     },
     "execution_count": 35,
     "metadata": {},
     "output_type": "execute_result"
    }
   ],
   "source": [
    "data.shape"
   ]
  },
  {
   "cell_type": "code",
   "execution_count": 36,
   "id": "brilliant-bidding",
   "metadata": {},
   "outputs": [
    {
     "data": {
      "text/plain": [
       "(48895,)"
      ]
     },
     "execution_count": 36,
     "metadata": {},
     "output_type": "execute_result"
    }
   ],
   "source": [
    "label.shape"
   ]
  },
  {
   "cell_type": "code",
   "execution_count": 37,
   "id": "verified-restaurant",
   "metadata": {},
   "outputs": [
    {
     "data": {
      "text/plain": [
       "array([0., 1., 0., ..., 0., 0., 0.])"
      ]
     },
     "execution_count": 37,
     "metadata": {},
     "output_type": "execute_result"
    }
   ],
   "source": [
    "label"
   ]
  },
  {
   "cell_type": "markdown",
   "id": "operational-flavor",
   "metadata": {},
   "source": [
    "data is a 2D tensor, label is a 1D tensor\n",
    "Must decide on test data and validation data, how should I do this??"
   ]
  },
  {
   "cell_type": "code",
   "execution_count": 38,
   "id": "wired-trader",
   "metadata": {},
   "outputs": [],
   "source": [
    "model=models.Sequential()\n",
    "model.add(layers.Dense(12, input_dim=len(New_cat_list+New_cont_list), activation='relu'))\n",
    "model.add(layers.Dropout(0.2))\n",
    "model.add(layers.Dense(8, activation='relu'))\n",
    "model.add(layers.Dense(1, activation='sigmoid'))"
   ]
  },
  {
   "cell_type": "markdown",
   "id": "spare-drink",
   "metadata": {},
   "source": [
    "Separate 10,000 rows as a validation dataset"
   ]
  },
  {
   "cell_type": "code",
   "execution_count": 39,
   "id": "mexican-tourist",
   "metadata": {},
   "outputs": [],
   "source": [
    "val_data=data[:10000]\n",
    "test_data=data[10000:]"
   ]
  },
  {
   "cell_type": "code",
   "execution_count": 40,
   "id": "hollow-place",
   "metadata": {},
   "outputs": [
    {
     "data": {
      "text/plain": [
       "(10000, 7)"
      ]
     },
     "execution_count": 40,
     "metadata": {},
     "output_type": "execute_result"
    }
   ],
   "source": [
    "val_data.shape"
   ]
  },
  {
   "cell_type": "code",
   "execution_count": 41,
   "id": "twelve-retreat",
   "metadata": {},
   "outputs": [],
   "source": [
    "val_label=label[:10000]\n",
    "test_label=label[10000:]"
   ]
  },
  {
   "cell_type": "code",
   "execution_count": 42,
   "id": "willing-canadian",
   "metadata": {},
   "outputs": [
    {
     "data": {
      "text/plain": [
       "(10000,)"
      ]
     },
     "execution_count": 42,
     "metadata": {},
     "output_type": "execute_result"
    }
   ],
   "source": [
    "val_label.shape"
   ]
  },
  {
   "cell_type": "code",
   "execution_count": 43,
   "id": "social-incidence",
   "metadata": {},
   "outputs": [],
   "source": [
    "model.compile(optimizer='rmsprop', loss='binary_crossentropy', metrics=['acc'])"
   ]
  },
  {
   "cell_type": "code",
   "execution_count": 44,
   "id": "historical-alaska",
   "metadata": {},
   "outputs": [],
   "source": [
    "callbacks_list=[keras.callbacks.ModelCheckpoint(filepath='C:/Users/Sidney/LiveProject/Rob_model',\n",
    "                                              monitor='val_loss', save_best_only=True),\n",
    "               keras.callbacks.ReduceLROnPlateau(monitor='val_loss', factor=0.1, patience=10)]"
   ]
  },
  {
   "cell_type": "code",
   "execution_count": 45,
   "id": "ordered-accordance",
   "metadata": {},
   "outputs": [
    {
     "name": "stdout",
     "output_type": "stream",
     "text": [
      "Epoch 1/20\n",
      "68/76 [=========================>....] - ETA: 0s - loss: 0.6176 - acc: 0.7012WARNING:tensorflow:From C:\\Users\\Sidney\\anaconda3\\envs\\DeepLearning\\lib\\site-packages\\tensorflow\\python\\training\\tracking\\tracking.py:111: Model.state_updates (from tensorflow.python.keras.engine.training) is deprecated and will be removed in a future version.\n",
      "Instructions for updating:\n",
      "This property should not be used in TensorFlow 2.0, as updates are applied automatically.\n",
      "WARNING:tensorflow:From C:\\Users\\Sidney\\anaconda3\\envs\\DeepLearning\\lib\\site-packages\\tensorflow\\python\\training\\tracking\\tracking.py:111: Layer.updates (from tensorflow.python.keras.engine.base_layer) is deprecated and will be removed in a future version.\n",
      "Instructions for updating:\n",
      "This property should not be used in TensorFlow 2.0, as updates are applied automatically.\n",
      "INFO:tensorflow:Assets written to: C:/Users/Sidney/LiveProject\\Rob_model\\assets\n",
      "76/76 [==============================] - 2s 21ms/step - loss: 0.6140 - acc: 0.7027 - val_loss: 0.6357 - val_acc: 0.6748\n",
      "Epoch 2/20\n",
      "49/76 [==================>...........] - ETA: 0s - loss: 0.5739 - acc: 0.7146INFO:tensorflow:Assets written to: C:/Users/Sidney/LiveProject\\Rob_model\\assets\n",
      "76/76 [==============================] - 1s 14ms/step - loss: 0.5678 - acc: 0.7163 - val_loss: 0.6272 - val_acc: 0.6692\n",
      "Epoch 3/20\n",
      "43/76 [===============>..............] - ETA: 0s - loss: 0.5488 - acc: 0.7211INFO:tensorflow:Assets written to: C:/Users/Sidney/LiveProject\\Rob_model\\assets\n",
      "76/76 [==============================] - 1s 16ms/step - loss: 0.5457 - acc: 0.7204 - val_loss: 0.6070 - val_acc: 0.6697\n",
      "Epoch 4/20\n",
      "49/76 [==================>...........] - ETA: 0s - loss: 0.5280 - acc: 0.7195INFO:tensorflow:Assets written to: C:/Users/Sidney/LiveProject\\Rob_model\\assets\n",
      "76/76 [==============================] - 1s 15ms/step - loss: 0.5237 - acc: 0.7208 - val_loss: 0.5798 - val_acc: 0.6674\n",
      "Epoch 5/20\n",
      "28/76 [==========>...................] - ETA: 0s - loss: 0.5034 - acc: 0.7285INFO:tensorflow:Assets written to: C:/Users/Sidney/LiveProject\\Rob_model\\assets\n",
      "76/76 [==============================] - 1s 16ms/step - loss: 0.4990 - acc: 0.7293 - val_loss: 0.5484 - val_acc: 0.6877\n",
      "Epoch 6/20\n",
      "66/76 [=========================>....] - ETA: 0s - loss: 0.4768 - acc: 0.7511INFO:tensorflow:Assets written to: C:/Users/Sidney/LiveProject\\Rob_model\\assets\n",
      "76/76 [==============================] - 1s 15ms/step - loss: 0.4756 - acc: 0.7536 - val_loss: 0.5262 - val_acc: 0.7025\n",
      "Epoch 7/20\n",
      "36/76 [=============>................] - ETA: 0s - loss: 0.4627 - acc: 0.7645INFO:tensorflow:Assets written to: C:/Users/Sidney/LiveProject\\Rob_model\\assets\n",
      "76/76 [==============================] - 1s 15ms/step - loss: 0.4624 - acc: 0.7653 - val_loss: 0.5143 - val_acc: 0.7089\n",
      "Epoch 8/20\n",
      "63/76 [=======================>......] - ETA: 0s - loss: 0.4512 - acc: 0.7732INFO:tensorflow:Assets written to: C:/Users/Sidney/LiveProject\\Rob_model\\assets\n",
      "76/76 [==============================] - 1s 15ms/step - loss: 0.4524 - acc: 0.7727 - val_loss: 0.5039 - val_acc: 0.7108\n",
      "Epoch 9/20\n",
      "32/76 [===========>..................] - ETA: 0s - loss: 0.4510 - acc: 0.7722INFO:tensorflow:Assets written to: C:/Users/Sidney/LiveProject\\Rob_model\\assets\n",
      "76/76 [==============================] - 1s 16ms/step - loss: 0.4487 - acc: 0.7751 - val_loss: 0.4993 - val_acc: 0.7160\n",
      "Epoch 10/20\n",
      "46/76 [=================>............] - ETA: 0s - loss: 0.4457 - acc: 0.7815INFO:tensorflow:Assets written to: C:/Users/Sidney/LiveProject\\Rob_model\\assets\n",
      "76/76 [==============================] - 1s 16ms/step - loss: 0.4459 - acc: 0.7801 - val_loss: 0.4962 - val_acc: 0.7193\n",
      "Epoch 11/20\n",
      "31/76 [===========>..................] - ETA: 0s - loss: 0.4424 - acc: 0.7812INFO:tensorflow:Assets written to: C:/Users/Sidney/LiveProject\\Rob_model\\assets\n",
      "76/76 [==============================] - 1s 15ms/step - loss: 0.4441 - acc: 0.7797 - val_loss: 0.4940 - val_acc: 0.7244\n",
      "Epoch 12/20\n",
      "75/76 [============================>.] - ETA: 0s - loss: 0.4409 - acc: 0.7830INFO:tensorflow:Assets written to: C:/Users/Sidney/LiveProject\\Rob_model\\assets\n",
      "76/76 [==============================] - 1s 15ms/step - loss: 0.4407 - acc: 0.7829 - val_loss: 0.4910 - val_acc: 0.7336\n",
      "Epoch 13/20\n",
      "41/76 [===============>..............] - ETA: 0s - loss: 0.4474 - acc: 0.7827INFO:tensorflow:Assets written to: C:/Users/Sidney/LiveProject\\Rob_model\\assets\n",
      "76/76 [==============================] - 1s 15ms/step - loss: 0.4408 - acc: 0.7871 - val_loss: 0.4900 - val_acc: 0.7363\n",
      "Epoch 14/20\n",
      "41/76 [===============>..............] - ETA: 0s - loss: 0.4359 - acc: 0.7914INFO:tensorflow:Assets written to: C:/Users/Sidney/LiveProject\\Rob_model\\assets\n",
      "76/76 [==============================] - 1s 16ms/step - loss: 0.4378 - acc: 0.7881 - val_loss: 0.4882 - val_acc: 0.7402\n",
      "Epoch 15/20\n",
      "71/76 [===========================>..] - ETA: 0s - loss: 0.4368 - acc: 0.7871INFO:tensorflow:Assets written to: C:/Users/Sidney/LiveProject\\Rob_model\\assets\n",
      "76/76 [==============================] - 1s 16ms/step - loss: 0.4362 - acc: 0.7870 - val_loss: 0.4871 - val_acc: 0.7428\n",
      "Epoch 16/20\n",
      "76/76 [==============================] - 0s 1ms/step - loss: 0.4346 - acc: 0.7905 - val_loss: 0.4874 - val_acc: 0.7439\n",
      "Epoch 17/20\n",
      "46/76 [=================>............] - ETA: 0s - loss: 0.4357 - acc: 0.7862INFO:tensorflow:Assets written to: C:/Users/Sidney/LiveProject\\Rob_model\\assets\n",
      "76/76 [==============================] - 1s 16ms/step - loss: 0.4339 - acc: 0.7885 - val_loss: 0.4861 - val_acc: 0.7433\n",
      "Epoch 18/20\n",
      "76/76 [==============================] - 0s 2ms/step - loss: 0.4322 - acc: 0.7919 - val_loss: 0.4870 - val_acc: 0.7441\n",
      "Epoch 19/20\n",
      "50/76 [==================>...........] - ETA: 0s - loss: 0.4324 - acc: 0.7916INFO:tensorflow:Assets written to: C:/Users/Sidney/LiveProject\\Rob_model\\assets\n",
      "76/76 [==============================] - 1s 16ms/step - loss: 0.4315 - acc: 0.7914 - val_loss: 0.4847 - val_acc: 0.7436\n",
      "Epoch 20/20\n",
      "76/76 [==============================] - 0s 1ms/step - loss: 0.4322 - acc: 0.7906 - val_loss: 0.4855 - val_acc: 0.7441\n"
     ]
    }
   ],
   "source": [
    "history=model.fit(test_data,test_label, epochs=20, batch_size=512, callbacks=callbacks_list,\n",
    "                  validation_data=(val_data, val_label))"
   ]
  },
  {
   "cell_type": "code",
   "execution_count": 46,
   "id": "answering-category",
   "metadata": {},
   "outputs": [],
   "source": [
    "import matplotlib.pyplot as plt"
   ]
  },
  {
   "cell_type": "code",
   "execution_count": 47,
   "id": "vocational-trigger",
   "metadata": {},
   "outputs": [],
   "source": [
    "acc=history.history['acc']\n",
    "val_acc=history.history['val_acc']\n",
    "loss=history.history['loss']\n",
    "val_loss=history.history['val_loss']"
   ]
  },
  {
   "cell_type": "code",
   "execution_count": 48,
   "id": "hungarian-newman",
   "metadata": {},
   "outputs": [],
   "source": [
    "epochs=range(1,len(acc)+1)"
   ]
  },
  {
   "cell_type": "code",
   "execution_count": 49,
   "id": "impossible-heating",
   "metadata": {},
   "outputs": [
    {
     "data": {
      "text/plain": [
       "<matplotlib.legend.Legend at 0x2bb446606d0>"
      ]
     },
     "execution_count": 49,
     "metadata": {},
     "output_type": "execute_result"
    },
    {
     "data": {
      "image/png": "[encoded data removed]",
      "text/plain": [
       "<Figure size 432x288 with 1 Axes>"
      ]
     },
     "metadata": {
      "needs_background": "light"
     },
     "output_type": "display_data"
    }
   ],
   "source": [
    "plt.plot(epochs, acc, 'bo', label='Training acc')\n",
    "plt.plot(epochs,val_acc, 'b', label='Validaction acc')\n",
    "plt.title('Training and validation accuracy')\n",
    "plt.legend()"
   ]
  },
  {
   "cell_type": "code",
   "execution_count": 50,
   "id": "monetary-defense",
   "metadata": {},
   "outputs": [
    {
     "data": {
      "text/plain": [
       "<matplotlib.legend.Legend at 0x2bb44960d00>"
      ]
     },
     "execution_count": 50,
     "metadata": {},
     "output_type": "execute_result"
    },
    {
     "data": {
      "image/png": "[encoded data removed]",
      "text/plain": [
       "<Figure size 432x288 with 1 Axes>"
      ]
     },
     "metadata": {
      "needs_background": "light"
     },
     "output_type": "display_data"
    }
   ],
   "source": [
    "plt.plot(epochs, loss, 'bo', label='Training loss')\n",
    "plt.plot(epochs, val_loss, 'b', label='Validation loss')\n",
    "plt.title('Training and validation loss')\n",
    "plt.legend()"
   ]
  },
  {
   "cell_type": "code",
   "execution_count": null,
   "id": "rolled-service",
   "metadata": {},
   "outputs": [],
   "source": []
  }
 ],
 "metadata": {
  "kernelspec": {
   "display_name": "Python 3",
   "language": "python",
   "name": "python3"
  },
  "language_info": {
   "codemirror_mode": {
    "name": "ipython",
    "version": 3
   },
   "file_extension": ".py",
   "mimetype": "text/x-python",
   "name": "python",
   "nbconvert_exporter": "python",
   "pygments_lexer": "ipython3",
   "version": "3.8.8"
  }
 },
 "nbformat": 4,
 "nbformat_minor": 5
}
